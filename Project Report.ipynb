{
    "cells": [
        {
            "cell_type": "markdown",
            "metadata": {
                "collapsed": true
            },
            "source": "# Opening a Shopping Mall in Los Angeles"
        },
        {
            "cell_type": "markdown",
            "metadata": {},
            "source": "## Introduction and Business Problem"
        },
        {
            "cell_type": "markdown",
            "metadata": {},
            "source": "There are plenty of malls in Los Angeles. However, there will never be enough of them. If someone with a lot of money wants to open a new shopping mall in L.A., data science should come in to help.\n\nLet's assume we are helping some major stakeholders who want to pick an address in L.A. to oopen up a new shopping mall. We are trying to find out locations which are the most profitable. We will use methodologies like data science and machine learning to solve this problem based on some models we can build (e.g. clustering models).\n\nSo what is an ideal location is Los Angeles to open a new shopping mall? This will be the problem we stick to in the following process of exploring.\n\n"
        },
        {
            "cell_type": "markdown",
            "metadata": {},
            "source": "## Data"
        },
        {
            "cell_type": "markdown",
            "metadata": {},
            "source": "We need below data for this project to be done:\n1. Neibourhood information of the greater Los Angeles area. \n2.Geographical information (latitude and longitude) of the greater Los Angeles area.\n3.Venue data of the greater Los Angeles area."
        },
        {
            "cell_type": "markdown",
            "metadata": {},
            "source": "The Los Angeles government offered a list of zip codes of L.A.(http://file.lacounty.gov/SDSInter/lac/1031552_MasterZipCodes.pdf) from where we are able to extract L.A. neighbourhood information. For Geographical information (latitude and longitude) we can get it from Python package and for venue data we are able to get it from Foursquare API according to the methods "
        }
    ],
    "metadata": {
        "kernelspec": {
            "display_name": "Python 3.7",
            "language": "python",
            "name": "python3"
        },
        "language_info": {
            "codemirror_mode": {
                "name": "ipython",
                "version": 3
            },
            "file_extension": ".py",
            "mimetype": "text/x-python",
            "name": "python",
            "nbconvert_exporter": "python",
            "pygments_lexer": "ipython3",
            "version": "3.7.9"
        }
    },
    "nbformat": 4,
    "nbformat_minor": 1
}